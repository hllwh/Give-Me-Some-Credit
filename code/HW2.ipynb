{
 "cells": [
  {
   "cell_type": "markdown",
   "id": "5b5740c5",
   "metadata": {
    "ExecuteTime": {
     "end_time": "2023-03-28T03:03:12.092138Z",
     "start_time": "2023-03-28T03:03:11.517750Z"
    }
   },
   "source": [
    "# AUTHOR: Li Weihang\n",
    "\n",
    "# NUM: 2101212316"
   ]
  },
  {
   "cell_type": "code",
   "execution_count": 79,
   "id": "a97c7da7",
   "metadata": {
    "ExecuteTime": {
     "end_time": "2023-03-28T04:03:51.703559Z",
     "start_time": "2023-03-28T04:03:51.689656Z"
    }
   },
   "outputs": [],
   "source": [
    "import pandas as pd\n",
    "import numpy as np\n",
    "import seaborn as sns\n",
    "import warnings\n",
    "warnings.filterwarnings('ignore')\n",
    "import matplotlib.pyplot as plt\n",
    "from sklearn.metrics import roc_auc_score\n",
    "from scipy.stats.mstats import winsorize\n",
    "from sklearn.linear_model import Lasso,LassoCV,LassoLarsCV\n",
    "from sklearn.model_selection import KFold\n",
    "from sklearn.linear_model import LogisticRegression\n",
    "from sklearn import svm\n",
    "import lightgbm as lgb\n",
    "from sklearn.tree import DecisionTreeClassifier,plot_tree"
   ]
  },
  {
   "cell_type": "markdown",
   "id": "2ad996dc",
   "metadata": {
    "ExecuteTime": {
     "end_time": "2023-03-21T03:21:44.869390Z",
     "start_time": "2023-03-21T03:21:44.855497Z"
    }
   },
   "source": [
    "## 1. Data reader"
   ]
  },
  {
   "cell_type": "code",
   "execution_count": 11,
   "id": "1cbc0ccc",
   "metadata": {
    "ExecuteTime": {
     "end_time": "2023-03-28T02:16:59.900964Z",
     "start_time": "2023-03-28T02:16:59.692539Z"
    }
   },
   "outputs": [],
   "source": [
    "train = pd.read_csv('./data/cs-training.csv',index_col=0)\n",
    "test = pd.read_csv('./data/cs-test.csv',index_col=0)\n",
    "sample = pd.read_csv('./data/sampleEntry.csv',index_col=0)\n",
    "features = train.columns[1:]\n",
    "label = 'SeriousDlqin2yrs'"
   ]
  },
  {
   "cell_type": "code",
   "execution_count": 12,
   "id": "13986a7a",
   "metadata": {
    "ExecuteTime": {
     "end_time": "2023-03-28T02:17:00.272638Z",
     "start_time": "2023-03-28T02:17:00.237555Z"
    }
   },
   "outputs": [
    {
     "data": {
      "text/html": [
       "<div>\n",
       "<style scoped>\n",
       "    .dataframe tbody tr th:only-of-type {\n",
       "        vertical-align: middle;\n",
       "    }\n",
       "\n",
       "    .dataframe tbody tr th {\n",
       "        vertical-align: top;\n",
       "    }\n",
       "\n",
       "    .dataframe thead th {\n",
       "        text-align: right;\n",
       "    }\n",
       "</style>\n",
       "<table border=\"1\" class=\"dataframe\">\n",
       "  <thead>\n",
       "    <tr style=\"text-align: right;\">\n",
       "      <th></th>\n",
       "      <th>SeriousDlqin2yrs</th>\n",
       "      <th>RevolvingUtilizationOfUnsecuredLines</th>\n",
       "      <th>age</th>\n",
       "      <th>NumberOfTime30-59DaysPastDueNotWorse</th>\n",
       "      <th>DebtRatio</th>\n",
       "      <th>MonthlyIncome</th>\n",
       "      <th>NumberOfOpenCreditLinesAndLoans</th>\n",
       "      <th>NumberOfTimes90DaysLate</th>\n",
       "      <th>NumberRealEstateLoansOrLines</th>\n",
       "      <th>NumberOfTime60-89DaysPastDueNotWorse</th>\n",
       "      <th>NumberOfDependents</th>\n",
       "      <th>train_or_test</th>\n",
       "    </tr>\n",
       "  </thead>\n",
       "  <tbody>\n",
       "    <tr>\n",
       "      <th>1</th>\n",
       "      <td>1.0</td>\n",
       "      <td>0.766127</td>\n",
       "      <td>45</td>\n",
       "      <td>2</td>\n",
       "      <td>0.802982</td>\n",
       "      <td>9120.0</td>\n",
       "      <td>13</td>\n",
       "      <td>0</td>\n",
       "      <td>6</td>\n",
       "      <td>0</td>\n",
       "      <td>2.0</td>\n",
       "      <td>1</td>\n",
       "    </tr>\n",
       "    <tr>\n",
       "      <th>2</th>\n",
       "      <td>0.0</td>\n",
       "      <td>0.957151</td>\n",
       "      <td>40</td>\n",
       "      <td>0</td>\n",
       "      <td>0.121876</td>\n",
       "      <td>2600.0</td>\n",
       "      <td>4</td>\n",
       "      <td>0</td>\n",
       "      <td>0</td>\n",
       "      <td>0</td>\n",
       "      <td>1.0</td>\n",
       "      <td>1</td>\n",
       "    </tr>\n",
       "    <tr>\n",
       "      <th>3</th>\n",
       "      <td>0.0</td>\n",
       "      <td>0.658180</td>\n",
       "      <td>38</td>\n",
       "      <td>1</td>\n",
       "      <td>0.085113</td>\n",
       "      <td>3042.0</td>\n",
       "      <td>2</td>\n",
       "      <td>1</td>\n",
       "      <td>0</td>\n",
       "      <td>0</td>\n",
       "      <td>0.0</td>\n",
       "      <td>1</td>\n",
       "    </tr>\n",
       "    <tr>\n",
       "      <th>4</th>\n",
       "      <td>0.0</td>\n",
       "      <td>0.233810</td>\n",
       "      <td>30</td>\n",
       "      <td>0</td>\n",
       "      <td>0.036050</td>\n",
       "      <td>3300.0</td>\n",
       "      <td>5</td>\n",
       "      <td>0</td>\n",
       "      <td>0</td>\n",
       "      <td>0</td>\n",
       "      <td>0.0</td>\n",
       "      <td>1</td>\n",
       "    </tr>\n",
       "    <tr>\n",
       "      <th>5</th>\n",
       "      <td>0.0</td>\n",
       "      <td>0.907239</td>\n",
       "      <td>49</td>\n",
       "      <td>1</td>\n",
       "      <td>0.024926</td>\n",
       "      <td>63588.0</td>\n",
       "      <td>7</td>\n",
       "      <td>0</td>\n",
       "      <td>1</td>\n",
       "      <td>0</td>\n",
       "      <td>0.0</td>\n",
       "      <td>1</td>\n",
       "    </tr>\n",
       "  </tbody>\n",
       "</table>\n",
       "</div>"
      ],
      "text/plain": [
       "   SeriousDlqin2yrs  RevolvingUtilizationOfUnsecuredLines  age  \\\n",
       "1               1.0                              0.766127   45   \n",
       "2               0.0                              0.957151   40   \n",
       "3               0.0                              0.658180   38   \n",
       "4               0.0                              0.233810   30   \n",
       "5               0.0                              0.907239   49   \n",
       "\n",
       "   NumberOfTime30-59DaysPastDueNotWorse  DebtRatio  MonthlyIncome  \\\n",
       "1                                     2   0.802982         9120.0   \n",
       "2                                     0   0.121876         2600.0   \n",
       "3                                     1   0.085113         3042.0   \n",
       "4                                     0   0.036050         3300.0   \n",
       "5                                     1   0.024926        63588.0   \n",
       "\n",
       "   NumberOfOpenCreditLinesAndLoans  NumberOfTimes90DaysLate  \\\n",
       "1                               13                        0   \n",
       "2                                4                        0   \n",
       "3                                2                        1   \n",
       "4                                5                        0   \n",
       "5                                7                        0   \n",
       "\n",
       "   NumberRealEstateLoansOrLines  NumberOfTime60-89DaysPastDueNotWorse  \\\n",
       "1                             6                                     0   \n",
       "2                             0                                     0   \n",
       "3                             0                                     0   \n",
       "4                             0                                     0   \n",
       "5                             1                                     0   \n",
       "\n",
       "   NumberOfDependents  train_or_test  \n",
       "1                 2.0              1  \n",
       "2                 1.0              1  \n",
       "3                 0.0              1  \n",
       "4                 0.0              1  \n",
       "5                 0.0              1  "
      ]
     },
     "execution_count": 12,
     "metadata": {},
     "output_type": "execute_result"
    }
   ],
   "source": [
    "## Merge train and test data to further data process\n",
    "train['train_or_test'] = 1\n",
    "test['train_or_test'] = 0\n",
    "all_data = pd.concat([train,test])\n",
    "all_data.head()"
   ]
  },
  {
   "cell_type": "code",
   "execution_count": 13,
   "id": "584ed2fb",
   "metadata": {
    "ExecuteTime": {
     "end_time": "2023-03-28T02:17:00.801186Z",
     "start_time": "2023-03-28T02:17:00.766234Z"
    }
   },
   "outputs": [
    {
     "data": {
      "text/html": [
       "<div>\n",
       "<style scoped>\n",
       "    .dataframe tbody tr th:only-of-type {\n",
       "        vertical-align: middle;\n",
       "    }\n",
       "\n",
       "    .dataframe tbody tr th {\n",
       "        vertical-align: top;\n",
       "    }\n",
       "\n",
       "    .dataframe thead th {\n",
       "        text-align: right;\n",
       "    }\n",
       "</style>\n",
       "<table border=\"1\" class=\"dataframe\">\n",
       "  <thead>\n",
       "    <tr style=\"text-align: right;\">\n",
       "      <th></th>\n",
       "      <th>SeriousDlqin2yrs</th>\n",
       "      <th>RevolvingUtilizationOfUnsecuredLines</th>\n",
       "      <th>age</th>\n",
       "      <th>NumberOfTime30-59DaysPastDueNotWorse</th>\n",
       "      <th>DebtRatio</th>\n",
       "      <th>MonthlyIncome</th>\n",
       "      <th>NumberOfOpenCreditLinesAndLoans</th>\n",
       "      <th>NumberOfTimes90DaysLate</th>\n",
       "      <th>NumberRealEstateLoansOrLines</th>\n",
       "      <th>NumberOfTime60-89DaysPastDueNotWorse</th>\n",
       "      <th>NumberOfDependents</th>\n",
       "      <th>train_or_test</th>\n",
       "    </tr>\n",
       "  </thead>\n",
       "  <tbody>\n",
       "    <tr>\n",
       "      <th>1</th>\n",
       "      <td>1.0</td>\n",
       "      <td>0.766127</td>\n",
       "      <td>45</td>\n",
       "      <td>2</td>\n",
       "      <td>0.802982</td>\n",
       "      <td>9120.0</td>\n",
       "      <td>13</td>\n",
       "      <td>0</td>\n",
       "      <td>6</td>\n",
       "      <td>0</td>\n",
       "      <td>2.0</td>\n",
       "      <td>1</td>\n",
       "    </tr>\n",
       "    <tr>\n",
       "      <th>2</th>\n",
       "      <td>0.0</td>\n",
       "      <td>0.957151</td>\n",
       "      <td>40</td>\n",
       "      <td>0</td>\n",
       "      <td>0.121876</td>\n",
       "      <td>2600.0</td>\n",
       "      <td>4</td>\n",
       "      <td>0</td>\n",
       "      <td>0</td>\n",
       "      <td>0</td>\n",
       "      <td>1.0</td>\n",
       "      <td>1</td>\n",
       "    </tr>\n",
       "    <tr>\n",
       "      <th>3</th>\n",
       "      <td>0.0</td>\n",
       "      <td>0.658180</td>\n",
       "      <td>38</td>\n",
       "      <td>1</td>\n",
       "      <td>0.085113</td>\n",
       "      <td>3042.0</td>\n",
       "      <td>2</td>\n",
       "      <td>1</td>\n",
       "      <td>0</td>\n",
       "      <td>0</td>\n",
       "      <td>0.0</td>\n",
       "      <td>1</td>\n",
       "    </tr>\n",
       "    <tr>\n",
       "      <th>4</th>\n",
       "      <td>0.0</td>\n",
       "      <td>0.233810</td>\n",
       "      <td>30</td>\n",
       "      <td>0</td>\n",
       "      <td>0.036050</td>\n",
       "      <td>3300.0</td>\n",
       "      <td>5</td>\n",
       "      <td>0</td>\n",
       "      <td>0</td>\n",
       "      <td>0</td>\n",
       "      <td>0.0</td>\n",
       "      <td>1</td>\n",
       "    </tr>\n",
       "    <tr>\n",
       "      <th>5</th>\n",
       "      <td>0.0</td>\n",
       "      <td>0.907239</td>\n",
       "      <td>49</td>\n",
       "      <td>1</td>\n",
       "      <td>0.024926</td>\n",
       "      <td>63588.0</td>\n",
       "      <td>7</td>\n",
       "      <td>0</td>\n",
       "      <td>1</td>\n",
       "      <td>0</td>\n",
       "      <td>0.0</td>\n",
       "      <td>1</td>\n",
       "    </tr>\n",
       "  </tbody>\n",
       "</table>\n",
       "</div>"
      ],
      "text/plain": [
       "   SeriousDlqin2yrs  RevolvingUtilizationOfUnsecuredLines  age  \\\n",
       "1               1.0                              0.766127   45   \n",
       "2               0.0                              0.957151   40   \n",
       "3               0.0                              0.658180   38   \n",
       "4               0.0                              0.233810   30   \n",
       "5               0.0                              0.907239   49   \n",
       "\n",
       "   NumberOfTime30-59DaysPastDueNotWorse  DebtRatio  MonthlyIncome  \\\n",
       "1                                     2   0.802982         9120.0   \n",
       "2                                     0   0.121876         2600.0   \n",
       "3                                     1   0.085113         3042.0   \n",
       "4                                     0   0.036050         3300.0   \n",
       "5                                     1   0.024926        63588.0   \n",
       "\n",
       "   NumberOfOpenCreditLinesAndLoans  NumberOfTimes90DaysLate  \\\n",
       "1                               13                        0   \n",
       "2                                4                        0   \n",
       "3                                2                        1   \n",
       "4                                5                        0   \n",
       "5                                7                        0   \n",
       "\n",
       "   NumberRealEstateLoansOrLines  NumberOfTime60-89DaysPastDueNotWorse  \\\n",
       "1                             6                                     0   \n",
       "2                             0                                     0   \n",
       "3                             0                                     0   \n",
       "4                             0                                     0   \n",
       "5                             1                                     0   \n",
       "\n",
       "   NumberOfDependents  train_or_test  \n",
       "1                 2.0              1  \n",
       "2                 1.0              1  \n",
       "3                 0.0              1  \n",
       "4                 0.0              1  \n",
       "5                 0.0              1  "
      ]
     },
     "execution_count": 13,
     "metadata": {},
     "output_type": "execute_result"
    }
   ],
   "source": [
    "## fill NA values ,use forward filling\n",
    "all_data.fillna(method='ffill',inplace=True)\n",
    "all_data.head()"
   ]
  },
  {
   "cell_type": "code",
   "execution_count": 14,
   "id": "a5998706",
   "metadata": {
    "ExecuteTime": {
     "end_time": "2023-03-28T02:17:01.293748Z",
     "start_time": "2023-03-28T02:17:01.280791Z"
    }
   },
   "outputs": [
    {
     "data": {
      "text/plain": [
       "SeriousDlqin2yrs                        0\n",
       "RevolvingUtilizationOfUnsecuredLines    0\n",
       "age                                     0\n",
       "NumberOfTime30-59DaysPastDueNotWorse    0\n",
       "DebtRatio                               0\n",
       "MonthlyIncome                           0\n",
       "NumberOfOpenCreditLinesAndLoans         0\n",
       "NumberOfTimes90DaysLate                 0\n",
       "NumberRealEstateLoansOrLines            0\n",
       "NumberOfTime60-89DaysPastDueNotWorse    0\n",
       "NumberOfDependents                      0\n",
       "train_or_test                           0\n",
       "dtype: int64"
      ]
     },
     "execution_count": 14,
     "metadata": {},
     "output_type": "execute_result"
    }
   ],
   "source": [
    "## Make sure there is no NA value in all_data\n",
    "np.sum(all_data.isna())"
   ]
  },
  {
   "cell_type": "markdown",
   "id": "4254c371",
   "metadata": {},
   "source": [
    "## 2. Drop outlier and make normalization"
   ]
  },
  {
   "cell_type": "code",
   "execution_count": 15,
   "id": "969b839e",
   "metadata": {
    "ExecuteTime": {
     "end_time": "2023-03-28T02:17:02.572410Z",
     "start_time": "2023-03-28T02:17:02.384099Z"
    }
   },
   "outputs": [],
   "source": [
    "for col in features:\n",
    "    all_data.loc[:,col] = winsorize(all_data.loc[:,col],limits=[0.005,0.005])\n",
    "all_data.loc[:,features] = (all_data.loc[:,features] - all_data.loc[:,features].mean()) / all_data.loc[:,features].std()"
   ]
  },
  {
   "cell_type": "code",
   "execution_count": 16,
   "id": "5ee1f5cf",
   "metadata": {
    "ExecuteTime": {
     "end_time": "2023-03-28T02:17:02.806024Z",
     "start_time": "2023-03-28T02:17:02.769245Z"
    }
   },
   "outputs": [],
   "source": [
    "all_data.loc[:,'DebtRatio'] = winsorize(all_data.loc[:,'DebtRatio'],limits=[0.005,0.001])"
   ]
  },
  {
   "cell_type": "code",
   "execution_count": 17,
   "id": "2df822c5",
   "metadata": {
    "ExecuteTime": {
     "end_time": "2023-03-28T02:17:03.241175Z",
     "start_time": "2023-03-28T02:17:03.212165Z"
    }
   },
   "outputs": [
    {
     "data": {
      "text/plain": [
       "count    2.515030e+05\n",
       "mean    -2.440961e-17\n",
       "std      1.000000e+00\n",
       "min     -3.395364e-01\n",
       "25%     -3.393539e-01\n",
       "50%     -3.391537e-01\n",
       "75%     -3.386344e-01\n",
       "max      6.169604e+00\n",
       "Name: DebtRatio, dtype: float64"
      ]
     },
     "execution_count": 17,
     "metadata": {},
     "output_type": "execute_result"
    }
   ],
   "source": [
    "all_data['DebtRatio'].describe()"
   ]
  },
  {
   "cell_type": "markdown",
   "id": "90c7aba5",
   "metadata": {
    "ExecuteTime": {
     "end_time": "2023-03-21T03:40:48.789558Z",
     "start_time": "2023-03-21T03:40:48.772541Z"
    }
   },
   "source": [
    "## 3. Feature Analysis"
   ]
  },
  {
   "cell_type": "code",
   "execution_count": 18,
   "id": "5c1e6845",
   "metadata": {
    "ExecuteTime": {
     "end_time": "2023-03-28T02:17:16.825277Z",
     "start_time": "2023-03-28T02:17:06.733671Z"
    }
   },
   "outputs": [
    {
     "data": {
      "image/png": "[encoded data removed]",
      "text/plain": [
       "<Figure size 576x3600 with 10 Axes>"
      ]
     },
     "metadata": {
      "needs_background": "light"
     },
     "output_type": "display_data"
    }
   ],
   "source": [
    "n = len(features)\n",
    "fig = plt.figure(figsize=(8,5*n))\n",
    "for i,col in enumerate(features):\n",
    "    fig.add_subplot(n,1,i+1)\n",
    "    sns.distplot(all_data[col].values)"
   ]
  },
  {
   "cell_type": "markdown",
   "id": "80128a8b",
   "metadata": {},
   "source": [
    "## 4. PCA method"
   ]
  },
  {
   "cell_type": "code",
   "execution_count": 21,
   "id": "ec1cba6a",
   "metadata": {
    "ExecuteTime": {
     "end_time": "2023-03-28T02:18:32.699140Z",
     "start_time": "2023-03-28T02:18:32.281763Z"
    }
   },
   "outputs": [
    {
     "data": {
      "text/plain": [
       "PCA(n_components=3)"
      ]
     },
     "execution_count": 21,
     "metadata": {},
     "output_type": "execute_result"
    }
   ],
   "source": [
    "from sklearn.decomposition import PCA\n",
    "from sklearn.model_selection import GridSearchCV \n",
    "pca = PCA(n_components = 3)\n",
    "pca.fit(all_data[features])"
   ]
  },
  {
   "cell_type": "code",
   "execution_count": 29,
   "id": "d8cd66d2",
   "metadata": {
    "ExecuteTime": {
     "end_time": "2023-03-28T02:45:58.623547Z",
     "start_time": "2023-03-28T02:45:58.581968Z"
    }
   },
   "outputs": [
    {
     "data": {
      "text/html": [
       "<div>\n",
       "<style scoped>\n",
       "    .dataframe tbody tr th:only-of-type {\n",
       "        vertical-align: middle;\n",
       "    }\n",
       "\n",
       "    .dataframe tbody tr th {\n",
       "        vertical-align: top;\n",
       "    }\n",
       "\n",
       "    .dataframe thead th {\n",
       "        text-align: right;\n",
       "    }\n",
       "</style>\n",
       "<table border=\"1\" class=\"dataframe\">\n",
       "  <thead>\n",
       "    <tr style=\"text-align: right;\">\n",
       "      <th></th>\n",
       "      <th>pca1</th>\n",
       "      <th>pca2</th>\n",
       "      <th>pca3</th>\n",
       "      <th>train_or_test</th>\n",
       "      <th>SeriousDlqin2yrs</th>\n",
       "    </tr>\n",
       "  </thead>\n",
       "  <tbody>\n",
       "    <tr>\n",
       "      <th>0</th>\n",
       "      <td>0.022619</td>\n",
       "      <td>4.441500</td>\n",
       "      <td>-0.876277</td>\n",
       "      <td>1</td>\n",
       "      <td>1.0</td>\n",
       "    </tr>\n",
       "    <tr>\n",
       "      <th>1</th>\n",
       "      <td>1.354704</td>\n",
       "      <td>-1.293002</td>\n",
       "      <td>-1.131562</td>\n",
       "      <td>1</td>\n",
       "      <td>0.0</td>\n",
       "    </tr>\n",
       "    <tr>\n",
       "      <th>2</th>\n",
       "      <td>2.635859</td>\n",
       "      <td>-0.979755</td>\n",
       "      <td>0.189809</td>\n",
       "      <td>1</td>\n",
       "      <td>0.0</td>\n",
       "    </tr>\n",
       "    <tr>\n",
       "      <th>3</th>\n",
       "      <td>0.533472</td>\n",
       "      <td>-1.551058</td>\n",
       "      <td>-0.602958</td>\n",
       "      <td>1</td>\n",
       "      <td>0.0</td>\n",
       "    </tr>\n",
       "    <tr>\n",
       "      <th>4</th>\n",
       "      <td>-0.102607</td>\n",
       "      <td>2.481366</td>\n",
       "      <td>-1.081749</td>\n",
       "      <td>1</td>\n",
       "      <td>0.0</td>\n",
       "    </tr>\n",
       "    <tr>\n",
       "      <th>...</th>\n",
       "      <td>...</td>\n",
       "      <td>...</td>\n",
       "      <td>...</td>\n",
       "      <td>...</td>\n",
       "      <td>...</td>\n",
       "    </tr>\n",
       "    <tr>\n",
       "      <th>251498</th>\n",
       "      <td>0.780667</td>\n",
       "      <td>-1.683486</td>\n",
       "      <td>-0.777827</td>\n",
       "      <td>0</td>\n",
       "      <td>0.0</td>\n",
       "    </tr>\n",
       "    <tr>\n",
       "      <th>251499</th>\n",
       "      <td>2.318083</td>\n",
       "      <td>2.732466</td>\n",
       "      <td>-2.091395</td>\n",
       "      <td>0</td>\n",
       "      <td>0.0</td>\n",
       "    </tr>\n",
       "    <tr>\n",
       "      <th>251500</th>\n",
       "      <td>-0.322092</td>\n",
       "      <td>-0.335179</td>\n",
       "      <td>-1.177617</td>\n",
       "      <td>0</td>\n",
       "      <td>0.0</td>\n",
       "    </tr>\n",
       "    <tr>\n",
       "      <th>251501</th>\n",
       "      <td>0.485603</td>\n",
       "      <td>2.228912</td>\n",
       "      <td>0.573868</td>\n",
       "      <td>0</td>\n",
       "      <td>0.0</td>\n",
       "    </tr>\n",
       "    <tr>\n",
       "      <th>251502</th>\n",
       "      <td>0.311761</td>\n",
       "      <td>-0.604927</td>\n",
       "      <td>-0.667863</td>\n",
       "      <td>0</td>\n",
       "      <td>0.0</td>\n",
       "    </tr>\n",
       "  </tbody>\n",
       "</table>\n",
       "<p>251503 rows × 5 columns</p>\n",
       "</div>"
      ],
      "text/plain": [
       "            pca1      pca2      pca3  train_or_test  SeriousDlqin2yrs\n",
       "0       0.022619  4.441500 -0.876277              1               1.0\n",
       "1       1.354704 -1.293002 -1.131562              1               0.0\n",
       "2       2.635859 -0.979755  0.189809              1               0.0\n",
       "3       0.533472 -1.551058 -0.602958              1               0.0\n",
       "4      -0.102607  2.481366 -1.081749              1               0.0\n",
       "...          ...       ...       ...            ...               ...\n",
       "251498  0.780667 -1.683486 -0.777827              0               0.0\n",
       "251499  2.318083  2.732466 -2.091395              0               0.0\n",
       "251500 -0.322092 -0.335179 -1.177617              0               0.0\n",
       "251501  0.485603  2.228912  0.573868              0               0.0\n",
       "251502  0.311761 -0.604927 -0.667863              0               0.0\n",
       "\n",
       "[251503 rows x 5 columns]"
      ]
     },
     "execution_count": 29,
     "metadata": {},
     "output_type": "execute_result"
    }
   ],
   "source": [
    "data_pca = pd.DataFrame(pca.transform(all_data[features]),columns=['pca1','pca2','pca3'])\n",
    "data_pca['train_or_test'] = all_data['train_or_test'].values\n",
    "data_pca[label] = all_data[label].values\n",
    "data_pca"
   ]
  },
  {
   "cell_type": "markdown",
   "id": "7edfcb1d",
   "metadata": {},
   "source": [
    "## 5. Grid Search Method for LightGBM "
   ]
  },
  {
   "cell_type": "markdown",
   "id": "5433b922",
   "metadata": {},
   "source": [
    "### 5.1 data set"
   ]
  },
  {
   "cell_type": "code",
   "execution_count": 31,
   "id": "50642973",
   "metadata": {
    "ExecuteTime": {
     "end_time": "2023-03-28T02:52:59.376539Z",
     "start_time": "2023-03-28T02:52:59.350613Z"
    }
   },
   "outputs": [
    {
     "data": {
      "text/html": [
       "<div>\n",
       "<style scoped>\n",
       "    .dataframe tbody tr th:only-of-type {\n",
       "        vertical-align: middle;\n",
       "    }\n",
       "\n",
       "    .dataframe tbody tr th {\n",
       "        vertical-align: top;\n",
       "    }\n",
       "\n",
       "    .dataframe thead th {\n",
       "        text-align: right;\n",
       "    }\n",
       "</style>\n",
       "<table border=\"1\" class=\"dataframe\">\n",
       "  <thead>\n",
       "    <tr style=\"text-align: right;\">\n",
       "      <th></th>\n",
       "      <th>pca1</th>\n",
       "      <th>pca2</th>\n",
       "      <th>pca3</th>\n",
       "      <th>train_or_test</th>\n",
       "      <th>SeriousDlqin2yrs</th>\n",
       "    </tr>\n",
       "  </thead>\n",
       "  <tbody>\n",
       "    <tr>\n",
       "      <th>0</th>\n",
       "      <td>0.022619</td>\n",
       "      <td>4.441500</td>\n",
       "      <td>-0.876277</td>\n",
       "      <td>1</td>\n",
       "      <td>1.0</td>\n",
       "    </tr>\n",
       "    <tr>\n",
       "      <th>1</th>\n",
       "      <td>1.354704</td>\n",
       "      <td>-1.293002</td>\n",
       "      <td>-1.131562</td>\n",
       "      <td>1</td>\n",
       "      <td>0.0</td>\n",
       "    </tr>\n",
       "    <tr>\n",
       "      <th>2</th>\n",
       "      <td>2.635859</td>\n",
       "      <td>-0.979755</td>\n",
       "      <td>0.189809</td>\n",
       "      <td>1</td>\n",
       "      <td>0.0</td>\n",
       "    </tr>\n",
       "    <tr>\n",
       "      <th>3</th>\n",
       "      <td>0.533472</td>\n",
       "      <td>-1.551058</td>\n",
       "      <td>-0.602958</td>\n",
       "      <td>1</td>\n",
       "      <td>0.0</td>\n",
       "    </tr>\n",
       "    <tr>\n",
       "      <th>4</th>\n",
       "      <td>-0.102607</td>\n",
       "      <td>2.481366</td>\n",
       "      <td>-1.081749</td>\n",
       "      <td>1</td>\n",
       "      <td>0.0</td>\n",
       "    </tr>\n",
       "  </tbody>\n",
       "</table>\n",
       "</div>"
      ],
      "text/plain": [
       "       pca1      pca2      pca3  train_or_test  SeriousDlqin2yrs\n",
       "0  0.022619  4.441500 -0.876277              1               1.0\n",
       "1  1.354704 -1.293002 -1.131562              1               0.0\n",
       "2  2.635859 -0.979755  0.189809              1               0.0\n",
       "3  0.533472 -1.551058 -0.602958              1               0.0\n",
       "4 -0.102607  2.481366 -1.081749              1               0.0"
      ]
     },
     "execution_count": 31,
     "metadata": {},
     "output_type": "execute_result"
    }
   ],
   "source": [
    "new_train = data_pca.loc[data_pca['train_or_test']==1].reset_index().drop('index',axis=1)\n",
    "new_train.head()"
   ]
  },
  {
   "cell_type": "markdown",
   "id": "a820da62",
   "metadata": {},
   "source": [
    "### 5.2 LGBM基本参数设置"
   ]
  },
  {
   "cell_type": "code",
   "execution_count": 59,
   "id": "f144fe1a",
   "metadata": {
    "ExecuteTime": {
     "end_time": "2023-03-28T03:21:17.344397Z",
     "start_time": "2023-03-28T03:21:17.336466Z"
    }
   },
   "outputs": [],
   "source": [
    " params0 = {\n",
    "     'objective': 'binary',\n",
    "     'metric': 'binary_logloss,auc',\n",
    "     'max_depth': 6,\n",
    "     'num_leaves': 40,\n",
    "     'learning_rate': 0.1,\n",
    "     #'feature_fraction': 1,\n",
    "     'min_child_samples': 21,\n",
    "     'min_child_weight': 0.001,\n",
    "     #'bagging_fraction': 1,\n",
    "     #'bagging_freq': 0,\n",
    "     'reg_alpha': 0.001,\n",
    "     'reg_lambda': 8,\n",
    "     'cat_smooth': 0,\n",
    "     'num_iterations': 200,\n",
    "     'verbose':-1,\n",
    "}             "
   ]
  },
  {
   "cell_type": "markdown",
   "id": "ec6ad915",
   "metadata": {},
   "source": [
    "### 5.3 调整max_depth 和 num_leaves"
   ]
  },
  {
   "cell_type": "code",
   "execution_count": 63,
   "id": "f4bb075e",
   "metadata": {
    "ExecuteTime": {
     "end_time": "2023-03-28T03:25:22.527892Z",
     "start_time": "2023-03-28T03:25:01.219164Z"
    }
   },
   "outputs": [
    {
     "name": "stdout",
     "output_type": "stream",
     "text": [
      "参数的最佳取值:{'max_depth': 4, 'num_leaves': 20}\n",
      "最佳模型得分:0.8530084543364786\n",
      "[0.85300845 0.85300845 0.85300845 0.85266176 0.85162234 0.85137974\n",
      " 0.85258689 0.85180301 0.85092246]\n",
      "[{'max_depth': 4, 'num_leaves': 20}, {'max_depth': 4, 'num_leaves': 30}, {'max_depth': 4, 'num_leaves': 40}, {'max_depth': 6, 'num_leaves': 20}, {'max_depth': 6, 'num_leaves': 30}, {'max_depth': 6, 'num_leaves': 40}, {'max_depth': 8, 'num_leaves': 20}, {'max_depth': 8, 'num_leaves': 30}, {'max_depth': 8, 'num_leaves': 40}]\n"
     ]
    }
   ],
   "source": [
    "parameters = {\n",
    "    'max_depth': [4,6,8],\n",
    "    'num_leaves': [20,30,40],\n",
    "}\n",
    "\n",
    "lgbm = lgb.LGBMClassifier(**params0)\n",
    "gsearch = GridSearchCV(lgbm, param_grid=parameters, scoring='roc_auc', cv=5)\n",
    "gsearch.fit(new_train[['pca1','pca2','pca3']].values, new_train[label].values)\n",
    "print('参数的最佳取值:{0}'.format(gsearch.best_params_))\n",
    "print('最佳模型得分:{0}'.format(gsearch.best_score_))\n",
    "print(gsearch.cv_results_['mean_test_score'])\n",
    "print(gsearch.cv_results_['params'])"
   ]
  },
  {
   "cell_type": "markdown",
   "id": "889a045e",
   "metadata": {
    "ExecuteTime": {
     "end_time": "2023-03-28T03:23:51.148753Z",
     "start_time": "2023-03-28T03:23:51.140845Z"
    }
   },
   "source": [
    "### 5.4 调整min_child_samples 和 min_child_weight"
   ]
  },
  {
   "cell_type": "code",
   "execution_count": 64,
   "id": "8b839180",
   "metadata": {
    "ExecuteTime": {
     "end_time": "2023-03-28T03:26:14.869110Z",
     "start_time": "2023-03-28T03:25:45.797347Z"
    }
   },
   "outputs": [
    {
     "name": "stdout",
     "output_type": "stream",
     "text": [
      "参数的最佳取值:{'min_child_samples': 19, 'min_child_weight': 0.001}\n",
      "最佳模型得分:0.8516622635051754\n",
      "[0.85147317 0.85147317 0.85166226 0.85166226 0.85142316 0.85142316\n",
      " 0.85137974 0.85137974 0.85106665 0.85106665]\n",
      "[{'min_child_samples': 18, 'min_child_weight': 0.001}, {'min_child_samples': 18, 'min_child_weight': 0.002}, {'min_child_samples': 19, 'min_child_weight': 0.001}, {'min_child_samples': 19, 'min_child_weight': 0.002}, {'min_child_samples': 20, 'min_child_weight': 0.001}, {'min_child_samples': 20, 'min_child_weight': 0.002}, {'min_child_samples': 21, 'min_child_weight': 0.001}, {'min_child_samples': 21, 'min_child_weight': 0.002}, {'min_child_samples': 22, 'min_child_weight': 0.001}, {'min_child_samples': 22, 'min_child_weight': 0.002}]\n"
     ]
    }
   ],
   "source": [
    "parameters = {\n",
    "    'min_child_samples': [18,19,20,21,22],\n",
    "    'min_child_weight': [0.001,0.002],\n",
    "}\n",
    "\n",
    "lgbm = lgb.LGBMClassifier(**params0)\n",
    "gsearch = GridSearchCV(lgbm, param_grid=parameters, scoring='roc_auc', cv=5)\n",
    "gsearch.fit(new_train[['pca1','pca2','pca3']].values, new_train[label].values)\n",
    "print('参数的最佳取值:{0}'.format(gsearch.best_params_))\n",
    "print('最佳模型得分:{0}'.format(gsearch.best_score_))\n",
    "print(gsearch.cv_results_['mean_test_score'])\n",
    "print(gsearch.cv_results_['params'])"
   ]
  },
  {
   "cell_type": "markdown",
   "id": "a692a5fb",
   "metadata": {},
   "source": [
    "### 5.5 调整 reg_alpha 和 reg_lambda"
   ]
  },
  {
   "cell_type": "code",
   "execution_count": 65,
   "id": "ae50c99f",
   "metadata": {
    "ExecuteTime": {
     "end_time": "2023-03-28T03:33:05.835970Z",
     "start_time": "2023-03-28T03:32:18.887001Z"
    }
   },
   "outputs": [
    {
     "name": "stdout",
     "output_type": "stream",
     "text": [
      "参数的最佳取值:{'reg_alpha': 0.01, 'reg_lambda': 10}\n",
      "最佳模型得分:0.851559379921782\n",
      "[0.85054289 0.85103737 0.8514993  0.85139987 0.85055262 0.85122261\n",
      " 0.8513842  0.85152254 0.85051369 0.8510503  0.85139603 0.85155938\n",
      " 0.85022488 0.85105947 0.85137974 0.85150482]\n",
      "[{'reg_alpha': 0, 'reg_lambda': 2}, {'reg_alpha': 0, 'reg_lambda': 5}, {'reg_alpha': 0, 'reg_lambda': 8}, {'reg_alpha': 0, 'reg_lambda': 10}, {'reg_alpha': 0.1, 'reg_lambda': 2}, {'reg_alpha': 0.1, 'reg_lambda': 5}, {'reg_alpha': 0.1, 'reg_lambda': 8}, {'reg_alpha': 0.1, 'reg_lambda': 10}, {'reg_alpha': 0.01, 'reg_lambda': 2}, {'reg_alpha': 0.01, 'reg_lambda': 5}, {'reg_alpha': 0.01, 'reg_lambda': 8}, {'reg_alpha': 0.01, 'reg_lambda': 10}, {'reg_alpha': 0.001, 'reg_lambda': 2}, {'reg_alpha': 0.001, 'reg_lambda': 5}, {'reg_alpha': 0.001, 'reg_lambda': 8}, {'reg_alpha': 0.001, 'reg_lambda': 10}]\n"
     ]
    }
   ],
   "source": [
    "parameters = {\n",
    "    'reg_alpha': [0,0.1,0.01,0.001],\n",
    "    'reg_lambda': [2,5,8,10],\n",
    "}\n",
    "\n",
    "lgbm = lgb.LGBMClassifier(**params0)\n",
    "gsearch = GridSearchCV(lgbm, param_grid=parameters, scoring='roc_auc', cv=5)\n",
    "gsearch.fit(new_train[['pca1','pca2','pca3']].values, new_train[label].values)\n",
    "print('参数的最佳取值:{0}'.format(gsearch.best_params_))\n",
    "print('最佳模型得分:{0}'.format(gsearch.best_score_))\n",
    "print(gsearch.cv_results_['mean_test_score'])\n",
    "print(gsearch.cv_results_['params'])"
   ]
  },
  {
   "cell_type": "markdown",
   "id": "9c3dc60e",
   "metadata": {
    "ExecuteTime": {
     "end_time": "2023-03-28T03:24:13.925763Z",
     "start_time": "2023-03-28T03:24:13.918787Z"
    }
   },
   "source": [
    "### 5.6 调整 cat_smooth"
   ]
  },
  {
   "cell_type": "code",
   "execution_count": 66,
   "id": "2702b086",
   "metadata": {
    "ExecuteTime": {
     "end_time": "2023-03-28T03:33:16.287014Z",
     "start_time": "2023-03-28T03:33:05.902747Z"
    }
   },
   "outputs": [
    {
     "name": "stdout",
     "output_type": "stream",
     "text": [
      "参数的最佳取值:{'cat_smooth': 0}\n",
      "最佳模型得分:0.8513797444798452\n",
      "[0.85137974 0.85137974 0.85137974]\n",
      "[{'cat_smooth': 0}, {'cat_smooth': 10}, {'cat_smooth': 20}]\n"
     ]
    }
   ],
   "source": [
    "parameters = {\n",
    "     'cat_smooth': [0,10,20],\n",
    "}\n",
    "lgbm = lgb.LGBMClassifier(**params0)\n",
    "gsearch = GridSearchCV(lgbm, param_grid=parameters, scoring='roc_auc', cv=5)\n",
    "gsearch.fit(new_train[['pca1','pca2','pca3']].values, new_train[label].values)\n",
    "print('参数的最佳取值:{0}'.format(gsearch.best_params_))\n",
    "print('最佳模型得分:{0}'.format(gsearch.best_score_))\n",
    "print(gsearch.cv_results_['mean_test_score'])\n",
    "print(gsearch.cv_results_['params'])"
   ]
  },
  {
   "cell_type": "markdown",
   "id": "b19de166",
   "metadata": {},
   "source": [
    "## 5.7 得到最优的模型参数"
   ]
  },
  {
   "cell_type": "code",
   "execution_count": 68,
   "id": "796fb68e",
   "metadata": {
    "ExecuteTime": {
     "end_time": "2023-03-28T03:37:33.626074Z",
     "start_time": "2023-03-28T03:37:33.621017Z"
    }
   },
   "outputs": [],
   "source": [
    "best_params = {\n",
    "     'objective': 'binary',\n",
    "     'metric': 'binary_logloss,auc',\n",
    "     'max_depth': 4,\n",
    "     'num_leaves': 20,\n",
    "     'learning_rate': 0.1,\n",
    "     'min_child_samples': 18,\n",
    "     'min_child_weight': 0.001,\n",
    "     'reg_alpha': 0,\n",
    "     'reg_lambda': 2,\n",
    "     'cat_smooth': 0,\n",
    "     'num_iterations': 200,\n",
    "     'verbose':-1,\n",
    "}    "
   ]
  },
  {
   "cell_type": "markdown",
   "id": "acee9023",
   "metadata": {},
   "source": [
    "## 6. LGBM五折交叉验证"
   ]
  },
  {
   "cell_type": "code",
   "execution_count": 70,
   "id": "ffd9e128",
   "metadata": {
    "ExecuteTime": {
     "end_time": "2023-03-28T03:43:53.691749Z",
     "start_time": "2023-03-28T03:43:46.277549Z"
    }
   },
   "outputs": [
    {
     "name": "stdout",
     "output_type": "stream",
     "text": [
      "Training until validation scores don't improve for 100 rounds\n",
      "[20]\ttraining's binary_logloss: 0.184063\ttraining's auc: 0.855001\tvalid_1's binary_logloss: 0.180721\tvalid_1's auc: 0.849778\n",
      "[40]\ttraining's binary_logloss: 0.181194\ttraining's auc: 0.859176\tvalid_1's binary_logloss: 0.178872\tvalid_1's auc: 0.852081\n",
      "[60]\ttraining's binary_logloss: 0.180386\ttraining's auc: 0.861054\tvalid_1's binary_logloss: 0.178751\tvalid_1's auc: 0.852476\n",
      "[80]\ttraining's binary_logloss: 0.179921\ttraining's auc: 0.862222\tvalid_1's binary_logloss: 0.178787\tvalid_1's auc: 0.85222\n",
      "[100]\ttraining's binary_logloss: 0.179401\ttraining's auc: 0.863508\tvalid_1's binary_logloss: 0.178825\tvalid_1's auc: 0.852131\n",
      "[120]\ttraining's binary_logloss: 0.178882\ttraining's auc: 0.86482\tvalid_1's binary_logloss: 0.178877\tvalid_1's auc: 0.852122\n",
      "[140]\ttraining's binary_logloss: 0.17839\ttraining's auc: 0.866127\tvalid_1's binary_logloss: 0.17888\tvalid_1's auc: 0.852126\n",
      "[160]\ttraining's binary_logloss: 0.177965\ttraining's auc: 0.86716\tvalid_1's binary_logloss: 0.17893\tvalid_1's auc: 0.851854\n",
      "Early stopping, best iteration is:\n",
      "[69]\ttraining's binary_logloss: 0.18015\ttraining's auc: 0.861622\tvalid_1's binary_logloss: 0.178739\tvalid_1's auc: 0.85249\n",
      "fold1: vaild AUC is :0.852\n",
      "Training until validation scores don't improve for 100 rounds\n",
      "[20]\ttraining's binary_logloss: 0.182009\ttraining's auc: 0.855366\tvalid_1's binary_logloss: 0.189312\tvalid_1's auc: 0.847222\n",
      "[40]\ttraining's binary_logloss: 0.179126\ttraining's auc: 0.859529\tvalid_1's binary_logloss: 0.187193\tvalid_1's auc: 0.850433\n",
      "[60]\ttraining's binary_logloss: 0.178427\ttraining's auc: 0.861309\tvalid_1's binary_logloss: 0.186992\tvalid_1's auc: 0.851083\n",
      "[80]\ttraining's binary_logloss: 0.177893\ttraining's auc: 0.862714\tvalid_1's binary_logloss: 0.186906\tvalid_1's auc: 0.851548\n",
      "[100]\ttraining's binary_logloss: 0.177412\ttraining's auc: 0.863996\tvalid_1's binary_logloss: 0.186884\tvalid_1's auc: 0.851553\n",
      "[120]\ttraining's binary_logloss: 0.177008\ttraining's auc: 0.865233\tvalid_1's binary_logloss: 0.186877\tvalid_1's auc: 0.851596\n",
      "[140]\ttraining's binary_logloss: 0.176623\ttraining's auc: 0.86621\tvalid_1's binary_logloss: 0.18691\tvalid_1's auc: 0.851525\n",
      "[160]\ttraining's binary_logloss: 0.176291\ttraining's auc: 0.866998\tvalid_1's binary_logloss: 0.18694\tvalid_1's auc: 0.851451\n",
      "[180]\ttraining's binary_logloss: 0.175846\ttraining's auc: 0.868023\tvalid_1's binary_logloss: 0.186926\tvalid_1's auc: 0.851446\n",
      "Early stopping, best iteration is:\n",
      "[88]\ttraining's binary_logloss: 0.177734\ttraining's auc: 0.863086\tvalid_1's binary_logloss: 0.186868\tvalid_1's auc: 0.851688\n",
      "fold2: vaild AUC is :0.852\n",
      "Training until validation scores don't improve for 100 rounds\n",
      "[20]\ttraining's binary_logloss: 0.183559\ttraining's auc: 0.855171\tvalid_1's binary_logloss: 0.183186\tvalid_1's auc: 0.84704\n",
      "[40]\ttraining's binary_logloss: 0.180668\ttraining's auc: 0.859327\tvalid_1's binary_logloss: 0.181179\tvalid_1's auc: 0.850154\n",
      "[60]\ttraining's binary_logloss: 0.179945\ttraining's auc: 0.861292\tvalid_1's binary_logloss: 0.180916\tvalid_1's auc: 0.851027\n",
      "[80]\ttraining's binary_logloss: 0.179388\ttraining's auc: 0.862596\tvalid_1's binary_logloss: 0.180874\tvalid_1's auc: 0.851339\n",
      "[100]\ttraining's binary_logloss: 0.178877\ttraining's auc: 0.863913\tvalid_1's binary_logloss: 0.180856\tvalid_1's auc: 0.851472\n",
      "[120]\ttraining's binary_logloss: 0.178314\ttraining's auc: 0.865317\tvalid_1's binary_logloss: 0.180906\tvalid_1's auc: 0.851336\n",
      "[140]\ttraining's binary_logloss: 0.177801\ttraining's auc: 0.866738\tvalid_1's binary_logloss: 0.180948\tvalid_1's auc: 0.851205\n",
      "[160]\ttraining's binary_logloss: 0.177381\ttraining's auc: 0.867749\tvalid_1's binary_logloss: 0.18102\tvalid_1's auc: 0.851122\n",
      "Early stopping, best iteration is:\n",
      "[74]\ttraining's binary_logloss: 0.179561\ttraining's auc: 0.862219\tvalid_1's binary_logloss: 0.180837\tvalid_1's auc: 0.851404\n",
      "fold3: vaild AUC is :0.851\n",
      "Training until validation scores don't improve for 100 rounds\n",
      "[20]\ttraining's binary_logloss: 0.18295\ttraining's auc: 0.855566\tvalid_1's binary_logloss: 0.185436\tvalid_1's auc: 0.849147\n",
      "[40]\ttraining's binary_logloss: 0.180092\ttraining's auc: 0.859434\tvalid_1's binary_logloss: 0.183262\tvalid_1's auc: 0.85131\n",
      "[60]\ttraining's binary_logloss: 0.179363\ttraining's auc: 0.861264\tvalid_1's binary_logloss: 0.183167\tvalid_1's auc: 0.851767\n",
      "[80]\ttraining's binary_logloss: 0.17884\ttraining's auc: 0.862489\tvalid_1's binary_logloss: 0.183159\tvalid_1's auc: 0.851924\n",
      "[100]\ttraining's binary_logloss: 0.178388\ttraining's auc: 0.863798\tvalid_1's binary_logloss: 0.18319\tvalid_1's auc: 0.85185\n",
      "[120]\ttraining's binary_logloss: 0.177917\ttraining's auc: 0.86496\tvalid_1's binary_logloss: 0.183266\tvalid_1's auc: 0.85175\n",
      "[140]\ttraining's binary_logloss: 0.177469\ttraining's auc: 0.86608\tvalid_1's binary_logloss: 0.183355\tvalid_1's auc: 0.851664\n",
      "[160]\ttraining's binary_logloss: 0.177056\ttraining's auc: 0.867341\tvalid_1's binary_logloss: 0.18337\tvalid_1's auc: 0.851714\n",
      "Early stopping, best iteration is:\n",
      "[76]\ttraining's binary_logloss: 0.178936\ttraining's auc: 0.862219\tvalid_1's binary_logloss: 0.183121\tvalid_1's auc: 0.851972\n",
      "fold4: vaild AUC is :0.852\n",
      "Training until validation scores don't improve for 100 rounds\n",
      "[20]\ttraining's binary_logloss: 0.183171\ttraining's auc: 0.85351\tvalid_1's binary_logloss: 0.184597\tvalid_1's auc: 0.857694\n",
      "[40]\ttraining's binary_logloss: 0.180413\ttraining's auc: 0.85737\tvalid_1's binary_logloss: 0.182254\tvalid_1's auc: 0.859304\n",
      "[60]\ttraining's binary_logloss: 0.179613\ttraining's auc: 0.859318\tvalid_1's binary_logloss: 0.182067\tvalid_1's auc: 0.859501\n",
      "[80]\ttraining's binary_logloss: 0.179086\ttraining's auc: 0.860911\tvalid_1's binary_logloss: 0.182095\tvalid_1's auc: 0.859246\n",
      "[100]\ttraining's binary_logloss: 0.178542\ttraining's auc: 0.862369\tvalid_1's binary_logloss: 0.182165\tvalid_1's auc: 0.85902\n",
      "[120]\ttraining's binary_logloss: 0.178031\ttraining's auc: 0.86392\tvalid_1's binary_logloss: 0.182211\tvalid_1's auc: 0.858964\n",
      "[140]\ttraining's binary_logloss: 0.177548\ttraining's auc: 0.865148\tvalid_1's binary_logloss: 0.182302\tvalid_1's auc: 0.85866\n",
      "[160]\ttraining's binary_logloss: 0.177037\ttraining's auc: 0.86634\tvalid_1's binary_logloss: 0.182428\tvalid_1's auc: 0.858302\n",
      "Early stopping, best iteration is:\n",
      "[68]\ttraining's binary_logloss: 0.17939\ttraining's auc: 0.859963\tvalid_1's binary_logloss: 0.18205\tvalid_1's auc: 0.859558\n",
      "fold5: vaild AUC is :0.86\n"
     ]
    }
   ],
   "source": [
    "new_train = data_pca.loc[data_pca['train_or_test']==1].reset_index().drop('index',axis=1)\n",
    "kfolds = KFold(n_splits=5, shuffle=False)\n",
    "best_features = ['pca1','pca2','pca3']\n",
    "for i,(train_idx, val_idx) in enumerate(kfolds.split(new_train)):\n",
    "    # Split train and valid\n",
    "    train_x = new_train.loc[train_idx,best_features].values\n",
    "    valid_x = new_train.loc[val_idx,best_features].values\n",
    "    train_y = new_train.loc[train_idx,label].values\n",
    "    valid_y = new_train.loc[val_idx,label].values\n",
    "    \n",
    "    dtrain = lgb.Dataset(train_x,train_y)\n",
    "    dvalid = lgb.Dataset(valid_x,valid_y)\n",
    "    # LGBM模型训练\n",
    "    model = lgb.train(best_params, dtrain, valid_sets=[dtrain, dvalid], \n",
    "                      verbose_eval=20, early_stopping_rounds=100)\n",
    "\n",
    "    # 对验证集进行预测\n",
    "    valid_pred = model.predict(valid_x)\n",
    "    score = roc_auc_score(valid_y, valid_pred)\n",
    "    print(f'fold{i+1}: vaild AUC is :{round(score,3)}')"
   ]
  },
  {
   "cell_type": "markdown",
   "id": "b35475c8",
   "metadata": {},
   "source": [
    "## 6. Logistic Regression"
   ]
  },
  {
   "cell_type": "code",
   "execution_count": 75,
   "id": "18262f03",
   "metadata": {
    "ExecuteTime": {
     "end_time": "2023-03-28T03:48:06.716286Z",
     "start_time": "2023-03-28T03:48:04.697272Z"
    }
   },
   "outputs": [
    {
     "name": "stdout",
     "output_type": "stream",
     "text": [
      "fold1: with C = 0.00015, vaild AUC is :0.812\n",
      "fold1: with C = 0.0002, vaild AUC is :0.812\n",
      "fold1: with C = 0.001, vaild AUC is :0.843\n",
      "fold1: with C = 0.01, vaild AUC is :0.841\n",
      "fold1: with C = 0.1, vaild AUC is :0.84\n",
      "fold2: with C = 0.00015, vaild AUC is :0.81\n",
      "fold2: with C = 0.0002, vaild AUC is :0.81\n",
      "fold2: with C = 0.001, vaild AUC is :0.843\n",
      "fold2: with C = 0.01, vaild AUC is :0.841\n",
      "fold2: with C = 0.1, vaild AUC is :0.84\n",
      "fold3: with C = 0.00015, vaild AUC is :0.806\n",
      "fold3: with C = 0.0002, vaild AUC is :0.806\n",
      "fold3: with C = 0.001, vaild AUC is :0.841\n",
      "fold3: with C = 0.01, vaild AUC is :0.839\n",
      "fold3: with C = 0.1, vaild AUC is :0.838\n",
      "fold4: with C = 0.00015, vaild AUC is :0.807\n",
      "fold4: with C = 0.0002, vaild AUC is :0.807\n",
      "fold4: with C = 0.001, vaild AUC is :0.841\n",
      "fold4: with C = 0.01, vaild AUC is :0.84\n",
      "fold4: with C = 0.1, vaild AUC is :0.839\n",
      "fold5: with C = 0.00015, vaild AUC is :0.819\n",
      "fold5: with C = 0.0002, vaild AUC is :0.819\n",
      "fold5: with C = 0.001, vaild AUC is :0.851\n",
      "fold5: with C = 0.01, vaild AUC is :0.85\n",
      "fold5: with C = 0.1, vaild AUC is :0.849\n"
     ]
    }
   ],
   "source": [
    "new_train = data_pca.loc[data_pca['train_or_test']==1].reset_index().drop('index',axis=1)\n",
    "kfolds = KFold(n_splits=5, shuffle=False)\n",
    "best_features = ['pca1','pca2','pca3']\n",
    "\n",
    "for i,(train_idx, val_idx) in enumerate(kfolds.split(new_train)):\n",
    "    # Split train and valid\n",
    "    train_x = new_train.loc[train_idx,best_features].values\n",
    "    valid_x = new_train.loc[val_idx,best_features].values\n",
    "    train_y = new_train.loc[train_idx,label].values\n",
    "    valid_y = new_train.loc[val_idx,label].values\n",
    "    \n",
    "    # Logistic Model\n",
    "    for coef in [0.00015,0.0002,0.001,0.01,0.1]:\n",
    "        lr = LogisticRegression(penalty='l1',solver='liblinear',C=coef)\n",
    "        lr.fit(train_x, train_y)\n",
    "        valid_pred = lr.predict_proba(valid_x)[:,1]\n",
    "        score = roc_auc_score(valid_y, valid_pred)\n",
    "        print(f'fold{i+1}: with C = {coef}, vaild AUC is :{round(score,3)}')"
   ]
  },
  {
   "cell_type": "markdown",
   "id": "9e14ac45",
   "metadata": {},
   "source": [
    "## 7. SVM"
   ]
  },
  {
   "cell_type": "code",
   "execution_count": 78,
   "id": "40e62217",
   "metadata": {
    "ExecuteTime": {
     "end_time": "2023-03-28T04:03:51.545952Z",
     "start_time": "2023-03-28T03:50:33.941289Z"
    }
   },
   "outputs": [
    {
     "name": "stdout",
     "output_type": "stream",
     "text": [
      "fold1: with C = 0.0002, vaild AUC is :0.791\n",
      "fold1: with C = 0.001, vaild AUC is :0.791\n",
      "fold1: with C = 0.01, vaild AUC is :0.745\n",
      "fold1: with C = 0.1, vaild AUC is :0.714\n",
      "fold2: with C = 0.0002, vaild AUC is :0.768\n",
      "fold2: with C = 0.001, vaild AUC is :0.755\n",
      "fold2: with C = 0.01, vaild AUC is :0.734\n",
      "fold2: with C = 0.1, vaild AUC is :0.736\n",
      "fold3: with C = 0.0002, vaild AUC is :0.551\n",
      "fold3: with C = 0.001, vaild AUC is :0.551\n",
      "fold3: with C = 0.01, vaild AUC is :0.495\n",
      "fold3: with C = 0.1, vaild AUC is :0.649\n",
      "fold4: with C = 0.0002, vaild AUC is :0.677\n",
      "fold4: with C = 0.001, vaild AUC is :0.677\n",
      "fold4: with C = 0.01, vaild AUC is :0.823\n",
      "fold4: with C = 0.1, vaild AUC is :0.708\n",
      "fold5: with C = 0.0002, vaild AUC is :0.753\n",
      "fold5: with C = 0.001, vaild AUC is :0.753\n",
      "fold5: with C = 0.01, vaild AUC is :0.724\n",
      "fold5: with C = 0.1, vaild AUC is :0.55\n"
     ]
    }
   ],
   "source": [
    "new_train = data_pca.loc[data_pca['train_or_test']==1].reset_index().drop('index',axis=1)\n",
    "kfolds = KFold(n_splits=5, shuffle=False)\n",
    "best_features = ['pca1','pca2','pca3']\n",
    "\n",
    "for i,(train_idx, val_idx) in enumerate(kfolds.split(new_train)):\n",
    "    # Split train and valid\n",
    "    train_x = new_train.loc[train_idx,best_features].values\n",
    "    valid_x = new_train.loc[val_idx,best_features].values\n",
    "    train_y = new_train.loc[train_idx,label].values\n",
    "    valid_y = new_train.loc[val_idx,label].values\n",
    "    \n",
    "    # Logistic Model\n",
    "    for coef in [0.0002,0.001,0.01,0.1]:\n",
    "        sv = svm.SVC(max_iter=1000, kernel = 'linear',probability=True,C=coef)\n",
    "        sv.fit(train_x, train_y)\n",
    "        valid_pred = sv.predict_proba(valid_x)[:,1]\n",
    "        score = roc_auc_score(valid_y, valid_pred)\n",
    "        print(f'fold{i+1}: with C = {coef}, vaild AUC is :{round(score,3)}')"
   ]
  },
  {
   "cell_type": "markdown",
   "id": "71e884ea",
   "metadata": {},
   "source": [
    "## 7. Decision Tree"
   ]
  },
  {
   "cell_type": "code",
   "execution_count": 76,
   "id": "1c6018a0",
   "metadata": {
    "ExecuteTime": {
     "end_time": "2023-03-28T03:48:43.010013Z",
     "start_time": "2023-03-28T03:48:39.457448Z"
    }
   },
   "outputs": [
    {
     "name": "stdout",
     "output_type": "stream",
     "text": [
      "fold1: with max_depth = 0.1, vaild AUC is :0.798\n",
      "fold1: with max_depth = 0.1, vaild AUC is :0.823\n",
      "fold1: with max_depth = 0.1, vaild AUC is :0.836\n",
      "fold1: with max_depth = 0.1, vaild AUC is :0.842\n",
      "fold2: with max_depth = 0.1, vaild AUC is :0.801\n",
      "fold2: with max_depth = 0.1, vaild AUC is :0.82\n",
      "fold2: with max_depth = 0.1, vaild AUC is :0.83\n",
      "fold2: with max_depth = 0.1, vaild AUC is :0.836\n",
      "fold3: with max_depth = 0.1, vaild AUC is :0.797\n",
      "fold3: with max_depth = 0.1, vaild AUC is :0.818\n",
      "fold3: with max_depth = 0.1, vaild AUC is :0.83\n",
      "fold3: with max_depth = 0.1, vaild AUC is :0.834\n",
      "fold4: with max_depth = 0.1, vaild AUC is :0.804\n",
      "fold4: with max_depth = 0.1, vaild AUC is :0.828\n",
      "fold4: with max_depth = 0.1, vaild AUC is :0.837\n",
      "fold4: with max_depth = 0.1, vaild AUC is :0.842\n",
      "fold5: with max_depth = 0.1, vaild AUC is :0.797\n",
      "fold5: with max_depth = 0.1, vaild AUC is :0.824\n",
      "fold5: with max_depth = 0.1, vaild AUC is :0.839\n",
      "fold5: with max_depth = 0.1, vaild AUC is :0.844\n"
     ]
    }
   ],
   "source": [
    "new_train = data_pca.loc[data_pca['train_or_test']==1].reset_index().drop('index',axis=1)\n",
    "kfolds = KFold(n_splits=5, shuffle=False)\n",
    "best_features = ['pca1','pca2','pca3']\n",
    "\n",
    "for i,(train_idx, val_idx) in enumerate(kfolds.split(new_train)):\n",
    "    # Split train and valid\n",
    "    train_x = new_train.loc[train_idx,best_features].values\n",
    "    valid_x = new_train.loc[val_idx,best_features].values\n",
    "    train_y = new_train.loc[train_idx,label].values\n",
    "    valid_y = new_train.loc[val_idx,label].values\n",
    "    \n",
    "    # Logistic Model\n",
    "    for md in [3,4,5,6]:\n",
    "        dc = DecisionTreeClassifier(max_depth=md)\n",
    "        dc.fit(train_x, train_y)\n",
    "        valid_pred = dc.predict_proba(valid_x)[:,1]\n",
    "        score = roc_auc_score(valid_y, valid_pred)\n",
    "        print(f'fold{i+1}: with max_depth = {coef}, vaild AUC is :{round(score,3)}')"
   ]
  },
  {
   "cell_type": "code",
   "execution_count": null,
   "id": "a43e8545",
   "metadata": {},
   "outputs": [],
   "source": []
  }
 ],
 "metadata": {
  "kernelspec": {
   "display_name": "Python 3",
   "language": "python",
   "name": "python3"
  },
  "language_info": {
   "codemirror_mode": {
    "name": "ipython",
    "version": 3
   },
   "file_extension": ".py",
   "mimetype": "text/x-python",
   "name": "python",
   "nbconvert_exporter": "python",
   "pygments_lexer": "ipython3",
   "version": "3.8.8"
  },
  "varInspector": {
   "cols": {
    "lenName": 16,
    "lenType": 16,
    "lenVar": 40
   },
   "kernels_config": {
    "python": {
     "delete_cmd_postfix": "",
     "delete_cmd_prefix": "del ",
     "library": "var_list.py",
     "varRefreshCmd": "print(var_dic_list())"
    },
    "r": {
     "delete_cmd_postfix": ") ",
     "delete_cmd_prefix": "rm(",
     "library": "var_list.r",
     "varRefreshCmd": "cat(var_dic_list()) "
    }
   },
   "types_to_exclude": [
    "module",
    "function",
    "builtin_function_or_method",
    "instance",
    "_Feature"
   ],
   "window_display": false
  }
 },
 "nbformat": 4,
 "nbformat_minor": 5
}
